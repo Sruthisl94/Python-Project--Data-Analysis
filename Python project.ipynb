{
 "cells": [
  {
   "cell_type": "code",
   "execution_count": 2,
   "id": "1b265caf-2607-4773-8098-cadcb24fef69",
   "metadata": {},
   "outputs": [],
   "source": [
    "import pandas as pd\n",
    "import numpy as np\n",
    "import matplotlib.pyplot as plt\n",
    "import seaborn as sns"
   ]
  },
  {
   "cell_type": "code",
   "execution_count": 18,
   "id": "f22b621f-8670-4450-b1a2-46f0c1e99bba",
   "metadata": {},
   "outputs": [],
   "source": [
    "data=pd.read_excel('myexcel.xlsx')"
   ]
  },
  {
   "cell_type": "code",
   "execution_count": 4,
   "id": "223ff62b-0b67-4551-80e6-dba75f494eca",
   "metadata": {},
   "outputs": [
    {
     "data": {
      "text/html": [
       "<div>\n",
       "<style scoped>\n",
       "    .dataframe tbody tr th:only-of-type {\n",
       "        vertical-align: middle;\n",
       "    }\n",
       "\n",
       "    .dataframe tbody tr th {\n",
       "        vertical-align: top;\n",
       "    }\n",
       "\n",
       "    .dataframe thead th {\n",
       "        text-align: right;\n",
       "    }\n",
       "</style>\n",
       "<table border=\"1\" class=\"dataframe\">\n",
       "  <thead>\n",
       "    <tr style=\"text-align: right;\">\n",
       "      <th></th>\n",
       "      <th>Name</th>\n",
       "      <th>Team</th>\n",
       "      <th>Number</th>\n",
       "      <th>Position</th>\n",
       "      <th>Age</th>\n",
       "      <th>Height</th>\n",
       "      <th>Weight</th>\n",
       "      <th>College</th>\n",
       "      <th>Salary</th>\n",
       "    </tr>\n",
       "  </thead>\n",
       "  <tbody>\n",
       "    <tr>\n",
       "      <th>0</th>\n",
       "      <td>Avery Bradley</td>\n",
       "      <td>Boston Celtics</td>\n",
       "      <td>0</td>\n",
       "      <td>PG</td>\n",
       "      <td>25</td>\n",
       "      <td>2023-02-06 00:00:00</td>\n",
       "      <td>180</td>\n",
       "      <td>Texas</td>\n",
       "      <td>7730337.0</td>\n",
       "    </tr>\n",
       "    <tr>\n",
       "      <th>1</th>\n",
       "      <td>Jae Crowder</td>\n",
       "      <td>Boston Celtics</td>\n",
       "      <td>99</td>\n",
       "      <td>SF</td>\n",
       "      <td>25</td>\n",
       "      <td>2023-06-06 00:00:00</td>\n",
       "      <td>235</td>\n",
       "      <td>Marquette</td>\n",
       "      <td>6796117.0</td>\n",
       "    </tr>\n",
       "    <tr>\n",
       "      <th>2</th>\n",
       "      <td>John Holland</td>\n",
       "      <td>Boston Celtics</td>\n",
       "      <td>30</td>\n",
       "      <td>SG</td>\n",
       "      <td>27</td>\n",
       "      <td>2023-05-06 00:00:00</td>\n",
       "      <td>205</td>\n",
       "      <td>Boston University</td>\n",
       "      <td>NaN</td>\n",
       "    </tr>\n",
       "    <tr>\n",
       "      <th>3</th>\n",
       "      <td>R.J. Hunter</td>\n",
       "      <td>Boston Celtics</td>\n",
       "      <td>28</td>\n",
       "      <td>SG</td>\n",
       "      <td>22</td>\n",
       "      <td>2023-05-06 00:00:00</td>\n",
       "      <td>185</td>\n",
       "      <td>Georgia State</td>\n",
       "      <td>1148640.0</td>\n",
       "    </tr>\n",
       "    <tr>\n",
       "      <th>4</th>\n",
       "      <td>Jonas Jerebko</td>\n",
       "      <td>Boston Celtics</td>\n",
       "      <td>8</td>\n",
       "      <td>PF</td>\n",
       "      <td>29</td>\n",
       "      <td>2023-10-06 00:00:00</td>\n",
       "      <td>231</td>\n",
       "      <td>NaN</td>\n",
       "      <td>5000000.0</td>\n",
       "    </tr>\n",
       "  </tbody>\n",
       "</table>\n",
       "</div>"
      ],
      "text/plain": [
       "            Name            Team  Number Position  Age               Height  \\\n",
       "0  Avery Bradley  Boston Celtics       0       PG   25  2023-02-06 00:00:00   \n",
       "1    Jae Crowder  Boston Celtics      99       SF   25  2023-06-06 00:00:00   \n",
       "2   John Holland  Boston Celtics      30       SG   27  2023-05-06 00:00:00   \n",
       "3    R.J. Hunter  Boston Celtics      28       SG   22  2023-05-06 00:00:00   \n",
       "4  Jonas Jerebko  Boston Celtics       8       PF   29  2023-10-06 00:00:00   \n",
       "\n",
       "   Weight            College     Salary  \n",
       "0     180              Texas  7730337.0  \n",
       "1     235          Marquette  6796117.0  \n",
       "2     205  Boston University        NaN  \n",
       "3     185      Georgia State  1148640.0  \n",
       "4     231                NaN  5000000.0  "
      ]
     },
     "execution_count": 4,
     "metadata": {},
     "output_type": "execute_result"
    }
   ],
   "source": [
    "data.head()"
   ]
  },
  {
   "cell_type": "code",
   "execution_count": 5,
   "id": "348c3fdd-fd40-4455-8c17-a1b71f1f02ee",
   "metadata": {},
   "outputs": [
    {
     "name": "stdout",
     "output_type": "stream",
     "text": [
      "<class 'pandas.core.frame.DataFrame'>\n",
      "RangeIndex: 458 entries, 0 to 457\n",
      "Data columns (total 9 columns):\n",
      " #   Column    Non-Null Count  Dtype  \n",
      "---  ------    --------------  -----  \n",
      " 0   Name      458 non-null    object \n",
      " 1   Team      458 non-null    object \n",
      " 2   Number    458 non-null    int64  \n",
      " 3   Position  458 non-null    object \n",
      " 4   Age       458 non-null    int64  \n",
      " 5   Height    458 non-null    object \n",
      " 6   Weight    458 non-null    int64  \n",
      " 7   College   374 non-null    object \n",
      " 8   Salary    447 non-null    float64\n",
      "dtypes: float64(1), int64(3), object(5)\n",
      "memory usage: 32.3+ KB\n"
     ]
    }
   ],
   "source": [
    "data.info()"
   ]
  },
  {
   "cell_type": "code",
   "execution_count": 6,
   "id": "8bd41c0f-4b4b-4565-8273-f704e13b9258",
   "metadata": {},
   "outputs": [
    {
     "data": {
      "text/html": [
       "<div>\n",
       "<style scoped>\n",
       "    .dataframe tbody tr th:only-of-type {\n",
       "        vertical-align: middle;\n",
       "    }\n",
       "\n",
       "    .dataframe tbody tr th {\n",
       "        vertical-align: top;\n",
       "    }\n",
       "\n",
       "    .dataframe thead th {\n",
       "        text-align: right;\n",
       "    }\n",
       "</style>\n",
       "<table border=\"1\" class=\"dataframe\">\n",
       "  <thead>\n",
       "    <tr style=\"text-align: right;\">\n",
       "      <th></th>\n",
       "      <th>Number</th>\n",
       "      <th>Age</th>\n",
       "      <th>Weight</th>\n",
       "      <th>Salary</th>\n",
       "    </tr>\n",
       "  </thead>\n",
       "  <tbody>\n",
       "    <tr>\n",
       "      <th>count</th>\n",
       "      <td>458.000000</td>\n",
       "      <td>458.000000</td>\n",
       "      <td>458.000000</td>\n",
       "      <td>4.470000e+02</td>\n",
       "    </tr>\n",
       "    <tr>\n",
       "      <th>mean</th>\n",
       "      <td>17.713974</td>\n",
       "      <td>26.934498</td>\n",
       "      <td>221.543668</td>\n",
       "      <td>4.833970e+06</td>\n",
       "    </tr>\n",
       "    <tr>\n",
       "      <th>std</th>\n",
       "      <td>15.966837</td>\n",
       "      <td>4.400128</td>\n",
       "      <td>26.343200</td>\n",
       "      <td>5.226620e+06</td>\n",
       "    </tr>\n",
       "    <tr>\n",
       "      <th>min</th>\n",
       "      <td>0.000000</td>\n",
       "      <td>19.000000</td>\n",
       "      <td>161.000000</td>\n",
       "      <td>3.088800e+04</td>\n",
       "    </tr>\n",
       "    <tr>\n",
       "      <th>25%</th>\n",
       "      <td>5.000000</td>\n",
       "      <td>24.000000</td>\n",
       "      <td>200.000000</td>\n",
       "      <td>1.025210e+06</td>\n",
       "    </tr>\n",
       "    <tr>\n",
       "      <th>50%</th>\n",
       "      <td>13.000000</td>\n",
       "      <td>26.000000</td>\n",
       "      <td>220.000000</td>\n",
       "      <td>2.836186e+06</td>\n",
       "    </tr>\n",
       "    <tr>\n",
       "      <th>75%</th>\n",
       "      <td>25.000000</td>\n",
       "      <td>30.000000</td>\n",
       "      <td>240.000000</td>\n",
       "      <td>6.500000e+06</td>\n",
       "    </tr>\n",
       "    <tr>\n",
       "      <th>max</th>\n",
       "      <td>99.000000</td>\n",
       "      <td>40.000000</td>\n",
       "      <td>307.000000</td>\n",
       "      <td>2.500000e+07</td>\n",
       "    </tr>\n",
       "  </tbody>\n",
       "</table>\n",
       "</div>"
      ],
      "text/plain": [
       "           Number         Age      Weight        Salary\n",
       "count  458.000000  458.000000  458.000000  4.470000e+02\n",
       "mean    17.713974   26.934498  221.543668  4.833970e+06\n",
       "std     15.966837    4.400128   26.343200  5.226620e+06\n",
       "min      0.000000   19.000000  161.000000  3.088800e+04\n",
       "25%      5.000000   24.000000  200.000000  1.025210e+06\n",
       "50%     13.000000   26.000000  220.000000  2.836186e+06\n",
       "75%     25.000000   30.000000  240.000000  6.500000e+06\n",
       "max     99.000000   40.000000  307.000000  2.500000e+07"
      ]
     },
     "execution_count": 6,
     "metadata": {},
     "output_type": "execute_result"
    }
   ],
   "source": [
    "data.describe()"
   ]
  },
  {
   "cell_type": "code",
   "execution_count": 7,
   "id": "16d03bee-c2b7-4990-8967-dcb724971074",
   "metadata": {},
   "outputs": [
    {
     "data": {
      "text/plain": [
       "Name         0\n",
       "Team         0\n",
       "Number       0\n",
       "Position     0\n",
       "Age          0\n",
       "Height       0\n",
       "Weight       0\n",
       "College     84\n",
       "Salary      11\n",
       "dtype: int64"
      ]
     },
     "execution_count": 7,
     "metadata": {},
     "output_type": "execute_result"
    }
   ],
   "source": [
    "data.isnull().sum()"
   ]
  },
  {
   "cell_type": "code",
   "execution_count": 16,
   "id": "80338787-406d-41ed-9a81-f6eaf8a89570",
   "metadata": {},
   "outputs": [
    {
     "data": {
      "text/plain": [
       "Age        0\n",
       "Height     0\n",
       "Weight     0\n",
       "College    0\n",
       "Salary     0\n",
       "dtype: int64"
      ]
     },
     "execution_count": 16,
     "metadata": {},
     "output_type": "execute_result"
    }
   ],
   "source": [
    "columns=list(data)\n",
    "(data[columns[4:9]]==0).sum()"
   ]
  },
  {
   "cell_type": "code",
   "execution_count": 86,
   "id": "153485fe-b4d6-4a60-85e4-b3e709ed7ff6",
   "metadata": {},
   "outputs": [
    {
     "data": {
      "text/plain": [
       "<Axes: xlabel='Salary', ylabel='Count'>"
      ]
     },
     "execution_count": 86,
     "metadata": {},
     "output_type": "execute_result"
    },
    {
     "data": {
      "image/png": "[encoded data removed]",
      "text/plain": [
       "<Figure size 640x480 with 1 Axes>"
      ]
     },
     "metadata": {},
     "output_type": "display_data"
    }
   ],
   "source": [
    "sns.histplot(data['Salary'])"
   ]
  },
  {
   "cell_type": "markdown",
   "id": "c90df3f4-1d2f-42c6-9192-72d92aea4f3d",
   "metadata": {},
   "source": [
    "Imputation- Salary column"
   ]
  },
  {
   "cell_type": "code",
   "execution_count": 87,
   "id": "e2f00228-03c8-4cd7-ac46-3dc77e742e36",
   "metadata": {},
   "outputs": [],
   "source": [
    "col=data['Salary']\n",
    "col=col.fillna(col.mean(),inplace= True)"
   ]
  },
  {
   "cell_type": "code",
   "execution_count": 22,
   "id": "c996fd4b-0240-417e-956b-d4ad8a46a0c9",
   "metadata": {},
   "outputs": [
    {
     "data": {
      "text/html": [
       "<div>\n",
       "<style scoped>\n",
       "    .dataframe tbody tr th:only-of-type {\n",
       "        vertical-align: middle;\n",
       "    }\n",
       "\n",
       "    .dataframe tbody tr th {\n",
       "        vertical-align: top;\n",
       "    }\n",
       "\n",
       "    .dataframe thead th {\n",
       "        text-align: right;\n",
       "    }\n",
       "</style>\n",
       "<table border=\"1\" class=\"dataframe\">\n",
       "  <thead>\n",
       "    <tr style=\"text-align: right;\">\n",
       "      <th></th>\n",
       "      <th>Name</th>\n",
       "      <th>Team</th>\n",
       "      <th>Number</th>\n",
       "      <th>Position</th>\n",
       "      <th>Age</th>\n",
       "      <th>Height</th>\n",
       "      <th>Weight</th>\n",
       "      <th>College</th>\n",
       "      <th>Salary</th>\n",
       "    </tr>\n",
       "  </thead>\n",
       "  <tbody>\n",
       "    <tr>\n",
       "      <th>0</th>\n",
       "      <td>Avery Bradley</td>\n",
       "      <td>Boston Celtics</td>\n",
       "      <td>0</td>\n",
       "      <td>PG</td>\n",
       "      <td>25</td>\n",
       "      <td>2023-02-06 00:00:00</td>\n",
       "      <td>180</td>\n",
       "      <td>Texas</td>\n",
       "      <td>7.730337e+06</td>\n",
       "    </tr>\n",
       "    <tr>\n",
       "      <th>1</th>\n",
       "      <td>Jae Crowder</td>\n",
       "      <td>Boston Celtics</td>\n",
       "      <td>99</td>\n",
       "      <td>SF</td>\n",
       "      <td>25</td>\n",
       "      <td>2023-06-06 00:00:00</td>\n",
       "      <td>235</td>\n",
       "      <td>Marquette</td>\n",
       "      <td>6.796117e+06</td>\n",
       "    </tr>\n",
       "    <tr>\n",
       "      <th>2</th>\n",
       "      <td>John Holland</td>\n",
       "      <td>Boston Celtics</td>\n",
       "      <td>30</td>\n",
       "      <td>SG</td>\n",
       "      <td>27</td>\n",
       "      <td>2023-05-06 00:00:00</td>\n",
       "      <td>205</td>\n",
       "      <td>Boston University</td>\n",
       "      <td>4.833970e+06</td>\n",
       "    </tr>\n",
       "    <tr>\n",
       "      <th>3</th>\n",
       "      <td>R.J. Hunter</td>\n",
       "      <td>Boston Celtics</td>\n",
       "      <td>28</td>\n",
       "      <td>SG</td>\n",
       "      <td>22</td>\n",
       "      <td>2023-05-06 00:00:00</td>\n",
       "      <td>185</td>\n",
       "      <td>Georgia State</td>\n",
       "      <td>1.148640e+06</td>\n",
       "    </tr>\n",
       "    <tr>\n",
       "      <th>4</th>\n",
       "      <td>Jonas Jerebko</td>\n",
       "      <td>Boston Celtics</td>\n",
       "      <td>8</td>\n",
       "      <td>PF</td>\n",
       "      <td>29</td>\n",
       "      <td>2023-10-06 00:00:00</td>\n",
       "      <td>231</td>\n",
       "      <td>NaN</td>\n",
       "      <td>5.000000e+06</td>\n",
       "    </tr>\n",
       "    <tr>\n",
       "      <th>...</th>\n",
       "      <td>...</td>\n",
       "      <td>...</td>\n",
       "      <td>...</td>\n",
       "      <td>...</td>\n",
       "      <td>...</td>\n",
       "      <td>...</td>\n",
       "      <td>...</td>\n",
       "      <td>...</td>\n",
       "      <td>...</td>\n",
       "    </tr>\n",
       "    <tr>\n",
       "      <th>453</th>\n",
       "      <td>Shelvin Mack</td>\n",
       "      <td>Utah Jazz</td>\n",
       "      <td>8</td>\n",
       "      <td>PG</td>\n",
       "      <td>26</td>\n",
       "      <td>2023-03-06 00:00:00</td>\n",
       "      <td>203</td>\n",
       "      <td>Butler</td>\n",
       "      <td>2.433333e+06</td>\n",
       "    </tr>\n",
       "    <tr>\n",
       "      <th>454</th>\n",
       "      <td>Raul Neto</td>\n",
       "      <td>Utah Jazz</td>\n",
       "      <td>25</td>\n",
       "      <td>PG</td>\n",
       "      <td>24</td>\n",
       "      <td>2023-01-06 00:00:00</td>\n",
       "      <td>179</td>\n",
       "      <td>NaN</td>\n",
       "      <td>9.000000e+05</td>\n",
       "    </tr>\n",
       "    <tr>\n",
       "      <th>455</th>\n",
       "      <td>Tibor Pleiss</td>\n",
       "      <td>Utah Jazz</td>\n",
       "      <td>21</td>\n",
       "      <td>C</td>\n",
       "      <td>26</td>\n",
       "      <td>2023-03-07 00:00:00</td>\n",
       "      <td>256</td>\n",
       "      <td>NaN</td>\n",
       "      <td>2.900000e+06</td>\n",
       "    </tr>\n",
       "    <tr>\n",
       "      <th>456</th>\n",
       "      <td>Jeff Withey</td>\n",
       "      <td>Utah Jazz</td>\n",
       "      <td>24</td>\n",
       "      <td>C</td>\n",
       "      <td>26</td>\n",
       "      <td>7-0</td>\n",
       "      <td>231</td>\n",
       "      <td>Kansas</td>\n",
       "      <td>9.472760e+05</td>\n",
       "    </tr>\n",
       "    <tr>\n",
       "      <th>457</th>\n",
       "      <td>Priyanka</td>\n",
       "      <td>Utah Jazz</td>\n",
       "      <td>34</td>\n",
       "      <td>C</td>\n",
       "      <td>25</td>\n",
       "      <td>2023-03-07 00:00:00</td>\n",
       "      <td>231</td>\n",
       "      <td>Kansas</td>\n",
       "      <td>9.472760e+05</td>\n",
       "    </tr>\n",
       "  </tbody>\n",
       "</table>\n",
       "<p>458 rows × 9 columns</p>\n",
       "</div>"
      ],
      "text/plain": [
       "              Name            Team  Number Position  Age               Height  \\\n",
       "0    Avery Bradley  Boston Celtics       0       PG   25  2023-02-06 00:00:00   \n",
       "1      Jae Crowder  Boston Celtics      99       SF   25  2023-06-06 00:00:00   \n",
       "2     John Holland  Boston Celtics      30       SG   27  2023-05-06 00:00:00   \n",
       "3      R.J. Hunter  Boston Celtics      28       SG   22  2023-05-06 00:00:00   \n",
       "4    Jonas Jerebko  Boston Celtics       8       PF   29  2023-10-06 00:00:00   \n",
       "..             ...             ...     ...      ...  ...                  ...   \n",
       "453   Shelvin Mack       Utah Jazz       8       PG   26  2023-03-06 00:00:00   \n",
       "454      Raul Neto       Utah Jazz      25       PG   24  2023-01-06 00:00:00   \n",
       "455   Tibor Pleiss       Utah Jazz      21        C   26  2023-03-07 00:00:00   \n",
       "456    Jeff Withey       Utah Jazz      24        C   26                  7-0   \n",
       "457       Priyanka       Utah Jazz      34        C   25  2023-03-07 00:00:00   \n",
       "\n",
       "     Weight            College        Salary  \n",
       "0       180              Texas  7.730337e+06  \n",
       "1       235          Marquette  6.796117e+06  \n",
       "2       205  Boston University  4.833970e+06  \n",
       "3       185      Georgia State  1.148640e+06  \n",
       "4       231                NaN  5.000000e+06  \n",
       "..      ...                ...           ...  \n",
       "453     203             Butler  2.433333e+06  \n",
       "454     179                NaN  9.000000e+05  \n",
       "455     256                NaN  2.900000e+06  \n",
       "456     231             Kansas  9.472760e+05  \n",
       "457     231             Kansas  9.472760e+05  \n",
       "\n",
       "[458 rows x 9 columns]"
      ]
     },
     "execution_count": 22,
     "metadata": {},
     "output_type": "execute_result"
    }
   ],
   "source": [
    "data"
   ]
  },
  {
   "cell_type": "code",
   "execution_count": 100,
   "id": "5903dd34-af83-478a-876b-d3d6fb0e8abe",
   "metadata": {},
   "outputs": [],
   "source": [
    "duplicates=data.duplicated().sum()"
   ]
  },
  {
   "cell_type": "code",
   "execution_count": 101,
   "id": "013f5ad2-05a0-4af4-ad58-f884e6135ea2",
   "metadata": {},
   "outputs": [
    {
     "name": "stdout",
     "output_type": "stream",
     "text": [
      "0\n"
     ]
    }
   ],
   "source": [
    "print(duplicates)"
   ]
  },
  {
   "cell_type": "markdown",
   "id": "7f24f002-4214-4fff-be8d-373fbfeb3f49",
   "metadata": {},
   "source": [
    "Preprocessing:\n",
    "Correct the data in the \"height\" column by replacing it with random numbers between 150 and 180. Ensure data consistency \n",
    "and integrity before proceeding with analysis"
   ]
  },
  {
   "cell_type": "code",
   "execution_count": 28,
   "id": "3ef0c3f1-4a45-4fe4-8629-ae3e6bdae8c4",
   "metadata": {},
   "outputs": [],
   "source": [
    "data['Height']=np.random.randint(150,181,size=len(data))"
   ]
  },
  {
   "cell_type": "code",
   "execution_count": 29,
   "id": "935e06f0-2e92-4a50-b5a9-ed1f0319244c",
   "metadata": {},
   "outputs": [
    {
     "data": {
      "text/html": [
       "<div>\n",
       "<style scoped>\n",
       "    .dataframe tbody tr th:only-of-type {\n",
       "        vertical-align: middle;\n",
       "    }\n",
       "\n",
       "    .dataframe tbody tr th {\n",
       "        vertical-align: top;\n",
       "    }\n",
       "\n",
       "    .dataframe thead th {\n",
       "        text-align: right;\n",
       "    }\n",
       "</style>\n",
       "<table border=\"1\" class=\"dataframe\">\n",
       "  <thead>\n",
       "    <tr style=\"text-align: right;\">\n",
       "      <th></th>\n",
       "      <th>Name</th>\n",
       "      <th>Team</th>\n",
       "      <th>Number</th>\n",
       "      <th>Position</th>\n",
       "      <th>Age</th>\n",
       "      <th>Height</th>\n",
       "      <th>Weight</th>\n",
       "      <th>College</th>\n",
       "      <th>Salary</th>\n",
       "    </tr>\n",
       "  </thead>\n",
       "  <tbody>\n",
       "    <tr>\n",
       "      <th>0</th>\n",
       "      <td>Avery Bradley</td>\n",
       "      <td>Boston Celtics</td>\n",
       "      <td>0</td>\n",
       "      <td>PG</td>\n",
       "      <td>25</td>\n",
       "      <td>172</td>\n",
       "      <td>180</td>\n",
       "      <td>Texas</td>\n",
       "      <td>7.730337e+06</td>\n",
       "    </tr>\n",
       "    <tr>\n",
       "      <th>1</th>\n",
       "      <td>Jae Crowder</td>\n",
       "      <td>Boston Celtics</td>\n",
       "      <td>99</td>\n",
       "      <td>SF</td>\n",
       "      <td>25</td>\n",
       "      <td>164</td>\n",
       "      <td>235</td>\n",
       "      <td>Marquette</td>\n",
       "      <td>6.796117e+06</td>\n",
       "    </tr>\n",
       "    <tr>\n",
       "      <th>2</th>\n",
       "      <td>John Holland</td>\n",
       "      <td>Boston Celtics</td>\n",
       "      <td>30</td>\n",
       "      <td>SG</td>\n",
       "      <td>27</td>\n",
       "      <td>160</td>\n",
       "      <td>205</td>\n",
       "      <td>Boston University</td>\n",
       "      <td>4.833970e+06</td>\n",
       "    </tr>\n",
       "    <tr>\n",
       "      <th>3</th>\n",
       "      <td>R.J. Hunter</td>\n",
       "      <td>Boston Celtics</td>\n",
       "      <td>28</td>\n",
       "      <td>SG</td>\n",
       "      <td>22</td>\n",
       "      <td>162</td>\n",
       "      <td>185</td>\n",
       "      <td>Georgia State</td>\n",
       "      <td>1.148640e+06</td>\n",
       "    </tr>\n",
       "    <tr>\n",
       "      <th>4</th>\n",
       "      <td>Jonas Jerebko</td>\n",
       "      <td>Boston Celtics</td>\n",
       "      <td>8</td>\n",
       "      <td>PF</td>\n",
       "      <td>29</td>\n",
       "      <td>150</td>\n",
       "      <td>231</td>\n",
       "      <td>NaN</td>\n",
       "      <td>5.000000e+06</td>\n",
       "    </tr>\n",
       "    <tr>\n",
       "      <th>...</th>\n",
       "      <td>...</td>\n",
       "      <td>...</td>\n",
       "      <td>...</td>\n",
       "      <td>...</td>\n",
       "      <td>...</td>\n",
       "      <td>...</td>\n",
       "      <td>...</td>\n",
       "      <td>...</td>\n",
       "      <td>...</td>\n",
       "    </tr>\n",
       "    <tr>\n",
       "      <th>453</th>\n",
       "      <td>Shelvin Mack</td>\n",
       "      <td>Utah Jazz</td>\n",
       "      <td>8</td>\n",
       "      <td>PG</td>\n",
       "      <td>26</td>\n",
       "      <td>172</td>\n",
       "      <td>203</td>\n",
       "      <td>Butler</td>\n",
       "      <td>2.433333e+06</td>\n",
       "    </tr>\n",
       "    <tr>\n",
       "      <th>454</th>\n",
       "      <td>Raul Neto</td>\n",
       "      <td>Utah Jazz</td>\n",
       "      <td>25</td>\n",
       "      <td>PG</td>\n",
       "      <td>24</td>\n",
       "      <td>175</td>\n",
       "      <td>179</td>\n",
       "      <td>NaN</td>\n",
       "      <td>9.000000e+05</td>\n",
       "    </tr>\n",
       "    <tr>\n",
       "      <th>455</th>\n",
       "      <td>Tibor Pleiss</td>\n",
       "      <td>Utah Jazz</td>\n",
       "      <td>21</td>\n",
       "      <td>C</td>\n",
       "      <td>26</td>\n",
       "      <td>153</td>\n",
       "      <td>256</td>\n",
       "      <td>NaN</td>\n",
       "      <td>2.900000e+06</td>\n",
       "    </tr>\n",
       "    <tr>\n",
       "      <th>456</th>\n",
       "      <td>Jeff Withey</td>\n",
       "      <td>Utah Jazz</td>\n",
       "      <td>24</td>\n",
       "      <td>C</td>\n",
       "      <td>26</td>\n",
       "      <td>180</td>\n",
       "      <td>231</td>\n",
       "      <td>Kansas</td>\n",
       "      <td>9.472760e+05</td>\n",
       "    </tr>\n",
       "    <tr>\n",
       "      <th>457</th>\n",
       "      <td>Priyanka</td>\n",
       "      <td>Utah Jazz</td>\n",
       "      <td>34</td>\n",
       "      <td>C</td>\n",
       "      <td>25</td>\n",
       "      <td>166</td>\n",
       "      <td>231</td>\n",
       "      <td>Kansas</td>\n",
       "      <td>9.472760e+05</td>\n",
       "    </tr>\n",
       "  </tbody>\n",
       "</table>\n",
       "<p>458 rows × 9 columns</p>\n",
       "</div>"
      ],
      "text/plain": [
       "              Name            Team  Number Position  Age  Height  Weight  \\\n",
       "0    Avery Bradley  Boston Celtics       0       PG   25     172     180   \n",
       "1      Jae Crowder  Boston Celtics      99       SF   25     164     235   \n",
       "2     John Holland  Boston Celtics      30       SG   27     160     205   \n",
       "3      R.J. Hunter  Boston Celtics      28       SG   22     162     185   \n",
       "4    Jonas Jerebko  Boston Celtics       8       PF   29     150     231   \n",
       "..             ...             ...     ...      ...  ...     ...     ...   \n",
       "453   Shelvin Mack       Utah Jazz       8       PG   26     172     203   \n",
       "454      Raul Neto       Utah Jazz      25       PG   24     175     179   \n",
       "455   Tibor Pleiss       Utah Jazz      21        C   26     153     256   \n",
       "456    Jeff Withey       Utah Jazz      24        C   26     180     231   \n",
       "457       Priyanka       Utah Jazz      34        C   25     166     231   \n",
       "\n",
       "               College        Salary  \n",
       "0                Texas  7.730337e+06  \n",
       "1            Marquette  6.796117e+06  \n",
       "2    Boston University  4.833970e+06  \n",
       "3        Georgia State  1.148640e+06  \n",
       "4                  NaN  5.000000e+06  \n",
       "..                 ...           ...  \n",
       "453             Butler  2.433333e+06  \n",
       "454                NaN  9.000000e+05  \n",
       "455                NaN  2.900000e+06  \n",
       "456             Kansas  9.472760e+05  \n",
       "457             Kansas  9.472760e+05  \n",
       "\n",
       "[458 rows x 9 columns]"
      ]
     },
     "execution_count": 29,
     "metadata": {},
     "output_type": "execute_result"
    }
   ],
   "source": [
    "data"
   ]
  },
  {
   "cell_type": "code",
   "execution_count": 30,
   "id": "075f3ac1-a26d-4658-b440-0ac8ccade91e",
   "metadata": {},
   "outputs": [],
   "source": [
    "data['College']=data['College'].fillna('Unknown')"
   ]
  },
  {
   "cell_type": "code",
   "execution_count": 31,
   "id": "1ae41e94-7e79-446a-9001-efd02d3a498c",
   "metadata": {},
   "outputs": [
    {
     "data": {
      "text/html": [
       "<div>\n",
       "<style scoped>\n",
       "    .dataframe tbody tr th:only-of-type {\n",
       "        vertical-align: middle;\n",
       "    }\n",
       "\n",
       "    .dataframe tbody tr th {\n",
       "        vertical-align: top;\n",
       "    }\n",
       "\n",
       "    .dataframe thead th {\n",
       "        text-align: right;\n",
       "    }\n",
       "</style>\n",
       "<table border=\"1\" class=\"dataframe\">\n",
       "  <thead>\n",
       "    <tr style=\"text-align: right;\">\n",
       "      <th></th>\n",
       "      <th>Name</th>\n",
       "      <th>Team</th>\n",
       "      <th>Number</th>\n",
       "      <th>Position</th>\n",
       "      <th>Age</th>\n",
       "      <th>Height</th>\n",
       "      <th>Weight</th>\n",
       "      <th>College</th>\n",
       "      <th>Salary</th>\n",
       "    </tr>\n",
       "  </thead>\n",
       "  <tbody>\n",
       "    <tr>\n",
       "      <th>0</th>\n",
       "      <td>Avery Bradley</td>\n",
       "      <td>Boston Celtics</td>\n",
       "      <td>0</td>\n",
       "      <td>PG</td>\n",
       "      <td>25</td>\n",
       "      <td>172</td>\n",
       "      <td>180</td>\n",
       "      <td>Texas</td>\n",
       "      <td>7.730337e+06</td>\n",
       "    </tr>\n",
       "    <tr>\n",
       "      <th>1</th>\n",
       "      <td>Jae Crowder</td>\n",
       "      <td>Boston Celtics</td>\n",
       "      <td>99</td>\n",
       "      <td>SF</td>\n",
       "      <td>25</td>\n",
       "      <td>164</td>\n",
       "      <td>235</td>\n",
       "      <td>Marquette</td>\n",
       "      <td>6.796117e+06</td>\n",
       "    </tr>\n",
       "    <tr>\n",
       "      <th>2</th>\n",
       "      <td>John Holland</td>\n",
       "      <td>Boston Celtics</td>\n",
       "      <td>30</td>\n",
       "      <td>SG</td>\n",
       "      <td>27</td>\n",
       "      <td>160</td>\n",
       "      <td>205</td>\n",
       "      <td>Boston University</td>\n",
       "      <td>4.833970e+06</td>\n",
       "    </tr>\n",
       "    <tr>\n",
       "      <th>3</th>\n",
       "      <td>R.J. Hunter</td>\n",
       "      <td>Boston Celtics</td>\n",
       "      <td>28</td>\n",
       "      <td>SG</td>\n",
       "      <td>22</td>\n",
       "      <td>162</td>\n",
       "      <td>185</td>\n",
       "      <td>Georgia State</td>\n",
       "      <td>1.148640e+06</td>\n",
       "    </tr>\n",
       "    <tr>\n",
       "      <th>4</th>\n",
       "      <td>Jonas Jerebko</td>\n",
       "      <td>Boston Celtics</td>\n",
       "      <td>8</td>\n",
       "      <td>PF</td>\n",
       "      <td>29</td>\n",
       "      <td>150</td>\n",
       "      <td>231</td>\n",
       "      <td>Unknown</td>\n",
       "      <td>5.000000e+06</td>\n",
       "    </tr>\n",
       "    <tr>\n",
       "      <th>...</th>\n",
       "      <td>...</td>\n",
       "      <td>...</td>\n",
       "      <td>...</td>\n",
       "      <td>...</td>\n",
       "      <td>...</td>\n",
       "      <td>...</td>\n",
       "      <td>...</td>\n",
       "      <td>...</td>\n",
       "      <td>...</td>\n",
       "    </tr>\n",
       "    <tr>\n",
       "      <th>453</th>\n",
       "      <td>Shelvin Mack</td>\n",
       "      <td>Utah Jazz</td>\n",
       "      <td>8</td>\n",
       "      <td>PG</td>\n",
       "      <td>26</td>\n",
       "      <td>172</td>\n",
       "      <td>203</td>\n",
       "      <td>Butler</td>\n",
       "      <td>2.433333e+06</td>\n",
       "    </tr>\n",
       "    <tr>\n",
       "      <th>454</th>\n",
       "      <td>Raul Neto</td>\n",
       "      <td>Utah Jazz</td>\n",
       "      <td>25</td>\n",
       "      <td>PG</td>\n",
       "      <td>24</td>\n",
       "      <td>175</td>\n",
       "      <td>179</td>\n",
       "      <td>Unknown</td>\n",
       "      <td>9.000000e+05</td>\n",
       "    </tr>\n",
       "    <tr>\n",
       "      <th>455</th>\n",
       "      <td>Tibor Pleiss</td>\n",
       "      <td>Utah Jazz</td>\n",
       "      <td>21</td>\n",
       "      <td>C</td>\n",
       "      <td>26</td>\n",
       "      <td>153</td>\n",
       "      <td>256</td>\n",
       "      <td>Unknown</td>\n",
       "      <td>2.900000e+06</td>\n",
       "    </tr>\n",
       "    <tr>\n",
       "      <th>456</th>\n",
       "      <td>Jeff Withey</td>\n",
       "      <td>Utah Jazz</td>\n",
       "      <td>24</td>\n",
       "      <td>C</td>\n",
       "      <td>26</td>\n",
       "      <td>180</td>\n",
       "      <td>231</td>\n",
       "      <td>Kansas</td>\n",
       "      <td>9.472760e+05</td>\n",
       "    </tr>\n",
       "    <tr>\n",
       "      <th>457</th>\n",
       "      <td>Priyanka</td>\n",
       "      <td>Utah Jazz</td>\n",
       "      <td>34</td>\n",
       "      <td>C</td>\n",
       "      <td>25</td>\n",
       "      <td>166</td>\n",
       "      <td>231</td>\n",
       "      <td>Kansas</td>\n",
       "      <td>9.472760e+05</td>\n",
       "    </tr>\n",
       "  </tbody>\n",
       "</table>\n",
       "<p>458 rows × 9 columns</p>\n",
       "</div>"
      ],
      "text/plain": [
       "              Name            Team  Number Position  Age  Height  Weight  \\\n",
       "0    Avery Bradley  Boston Celtics       0       PG   25     172     180   \n",
       "1      Jae Crowder  Boston Celtics      99       SF   25     164     235   \n",
       "2     John Holland  Boston Celtics      30       SG   27     160     205   \n",
       "3      R.J. Hunter  Boston Celtics      28       SG   22     162     185   \n",
       "4    Jonas Jerebko  Boston Celtics       8       PF   29     150     231   \n",
       "..             ...             ...     ...      ...  ...     ...     ...   \n",
       "453   Shelvin Mack       Utah Jazz       8       PG   26     172     203   \n",
       "454      Raul Neto       Utah Jazz      25       PG   24     175     179   \n",
       "455   Tibor Pleiss       Utah Jazz      21        C   26     153     256   \n",
       "456    Jeff Withey       Utah Jazz      24        C   26     180     231   \n",
       "457       Priyanka       Utah Jazz      34        C   25     166     231   \n",
       "\n",
       "               College        Salary  \n",
       "0                Texas  7.730337e+06  \n",
       "1            Marquette  6.796117e+06  \n",
       "2    Boston University  4.833970e+06  \n",
       "3        Georgia State  1.148640e+06  \n",
       "4              Unknown  5.000000e+06  \n",
       "..                 ...           ...  \n",
       "453             Butler  2.433333e+06  \n",
       "454            Unknown  9.000000e+05  \n",
       "455            Unknown  2.900000e+06  \n",
       "456             Kansas  9.472760e+05  \n",
       "457             Kansas  9.472760e+05  \n",
       "\n",
       "[458 rows x 9 columns]"
      ]
     },
     "execution_count": 31,
     "metadata": {},
     "output_type": "execute_result"
    }
   ],
   "source": [
    "data"
   ]
  },
  {
   "cell_type": "markdown",
   "id": "38d891af-a450-44cc-8210-77113925790e",
   "metadata": {},
   "source": [
    "Analysis Tasks:\n",
    "1. Determine the distribution of employees across each team and calculate the percentage split relative to the total number of employees.\n",
    "2. Segregate employees based on their positions within the company.\n",
    "3. Identify the predominant age group among employees. \n",
    "4. Discover which team and position have the highest salary expenditure. \n",
    "5. Investigate if there's any correlation between age and salary, and represent it visually.\n"
   ]
  },
  {
   "cell_type": "markdown",
   "id": "180a9045-647e-48d4-8b9a-1c3f71c1b2ad",
   "metadata": {},
   "source": [
    "1. Determine the distribution of employees across each team and calculate the percentage split relative to the total number of employees."
   ]
  },
  {
   "cell_type": "code",
   "execution_count": 33,
   "id": "e90bd14c-57c8-4f5f-993a-2cb60fbb6a70",
   "metadata": {},
   "outputs": [],
   "source": [
    "count=data['Team'].value_counts()"
   ]
  },
  {
   "cell_type": "code",
   "execution_count": 34,
   "id": "8ceb92eb-a666-420d-9496-2c994c3a88d8",
   "metadata": {},
   "outputs": [
    {
     "data": {
      "text/plain": [
       "Team\n",
       "New Orleans Pelicans      19\n",
       "Memphis Grizzlies         18\n",
       "Utah Jazz                 16\n",
       "Milwaukee Bucks           16\n",
       "New York Knicks           16\n",
       "Boston Celtics            15\n",
       "Los Angeles Clippers      15\n",
       "Los Angeles Lakers        15\n",
       "Phoenix Suns              15\n",
       "Sacramento Kings          15\n",
       "Brooklyn Nets             15\n",
       "Philadelphia 76ers        15\n",
       "Toronto Raptors           15\n",
       "Golden State Warriors     15\n",
       "Indiana Pacers            15\n",
       "Detroit Pistons           15\n",
       "Cleveland Cavaliers       15\n",
       "Chicago Bulls             15\n",
       "Houston Rockets           15\n",
       "San Antonio Spurs         15\n",
       "Atlanta Hawks             15\n",
       "Dallas Mavericks          15\n",
       "Charlotte Hornets         15\n",
       "Miami Heat                15\n",
       "Denver Nuggets            15\n",
       "Washington Wizards        15\n",
       "Portland Trail Blazers    15\n",
       "Oklahoma City Thunder     15\n",
       "Orlando Magic             14\n",
       "Minnesota Timberwolves    14\n",
       "Name: count, dtype: int64"
      ]
     },
     "execution_count": 34,
     "metadata": {},
     "output_type": "execute_result"
    }
   ],
   "source": [
    "count"
   ]
  },
  {
   "cell_type": "code",
   "execution_count": 35,
   "id": "c03a7d4a-0b08-4bbf-ad67-550fd55fccc1",
   "metadata": {},
   "outputs": [],
   "source": [
    "count_Team=pd.DataFrame(count)"
   ]
  },
  {
   "cell_type": "code",
   "execution_count": 37,
   "id": "c6e66581-8ada-451c-ac7b-c224a5de9d5f",
   "metadata": {},
   "outputs": [
    {
     "data": {
      "text/html": [
       "<div>\n",
       "<style scoped>\n",
       "    .dataframe tbody tr th:only-of-type {\n",
       "        vertical-align: middle;\n",
       "    }\n",
       "\n",
       "    .dataframe tbody tr th {\n",
       "        vertical-align: top;\n",
       "    }\n",
       "\n",
       "    .dataframe thead th {\n",
       "        text-align: right;\n",
       "    }\n",
       "</style>\n",
       "<table border=\"1\" class=\"dataframe\">\n",
       "  <thead>\n",
       "    <tr style=\"text-align: right;\">\n",
       "      <th></th>\n",
       "      <th>count</th>\n",
       "    </tr>\n",
       "    <tr>\n",
       "      <th>Team</th>\n",
       "      <th></th>\n",
       "    </tr>\n",
       "  </thead>\n",
       "  <tbody>\n",
       "    <tr>\n",
       "      <th>New Orleans Pelicans</th>\n",
       "      <td>19</td>\n",
       "    </tr>\n",
       "    <tr>\n",
       "      <th>Memphis Grizzlies</th>\n",
       "      <td>18</td>\n",
       "    </tr>\n",
       "    <tr>\n",
       "      <th>Utah Jazz</th>\n",
       "      <td>16</td>\n",
       "    </tr>\n",
       "    <tr>\n",
       "      <th>Milwaukee Bucks</th>\n",
       "      <td>16</td>\n",
       "    </tr>\n",
       "    <tr>\n",
       "      <th>New York Knicks</th>\n",
       "      <td>16</td>\n",
       "    </tr>\n",
       "    <tr>\n",
       "      <th>Boston Celtics</th>\n",
       "      <td>15</td>\n",
       "    </tr>\n",
       "    <tr>\n",
       "      <th>Los Angeles Clippers</th>\n",
       "      <td>15</td>\n",
       "    </tr>\n",
       "    <tr>\n",
       "      <th>Los Angeles Lakers</th>\n",
       "      <td>15</td>\n",
       "    </tr>\n",
       "    <tr>\n",
       "      <th>Phoenix Suns</th>\n",
       "      <td>15</td>\n",
       "    </tr>\n",
       "    <tr>\n",
       "      <th>Sacramento Kings</th>\n",
       "      <td>15</td>\n",
       "    </tr>\n",
       "    <tr>\n",
       "      <th>Brooklyn Nets</th>\n",
       "      <td>15</td>\n",
       "    </tr>\n",
       "    <tr>\n",
       "      <th>Philadelphia 76ers</th>\n",
       "      <td>15</td>\n",
       "    </tr>\n",
       "    <tr>\n",
       "      <th>Toronto Raptors</th>\n",
       "      <td>15</td>\n",
       "    </tr>\n",
       "    <tr>\n",
       "      <th>Golden State Warriors</th>\n",
       "      <td>15</td>\n",
       "    </tr>\n",
       "    <tr>\n",
       "      <th>Indiana Pacers</th>\n",
       "      <td>15</td>\n",
       "    </tr>\n",
       "    <tr>\n",
       "      <th>Detroit Pistons</th>\n",
       "      <td>15</td>\n",
       "    </tr>\n",
       "    <tr>\n",
       "      <th>Cleveland Cavaliers</th>\n",
       "      <td>15</td>\n",
       "    </tr>\n",
       "    <tr>\n",
       "      <th>Chicago Bulls</th>\n",
       "      <td>15</td>\n",
       "    </tr>\n",
       "    <tr>\n",
       "      <th>Houston Rockets</th>\n",
       "      <td>15</td>\n",
       "    </tr>\n",
       "    <tr>\n",
       "      <th>San Antonio Spurs</th>\n",
       "      <td>15</td>\n",
       "    </tr>\n",
       "    <tr>\n",
       "      <th>Atlanta Hawks</th>\n",
       "      <td>15</td>\n",
       "    </tr>\n",
       "    <tr>\n",
       "      <th>Dallas Mavericks</th>\n",
       "      <td>15</td>\n",
       "    </tr>\n",
       "    <tr>\n",
       "      <th>Charlotte Hornets</th>\n",
       "      <td>15</td>\n",
       "    </tr>\n",
       "    <tr>\n",
       "      <th>Miami Heat</th>\n",
       "      <td>15</td>\n",
       "    </tr>\n",
       "    <tr>\n",
       "      <th>Denver Nuggets</th>\n",
       "      <td>15</td>\n",
       "    </tr>\n",
       "    <tr>\n",
       "      <th>Washington Wizards</th>\n",
       "      <td>15</td>\n",
       "    </tr>\n",
       "    <tr>\n",
       "      <th>Portland Trail Blazers</th>\n",
       "      <td>15</td>\n",
       "    </tr>\n",
       "    <tr>\n",
       "      <th>Oklahoma City Thunder</th>\n",
       "      <td>15</td>\n",
       "    </tr>\n",
       "    <tr>\n",
       "      <th>Orlando Magic</th>\n",
       "      <td>14</td>\n",
       "    </tr>\n",
       "    <tr>\n",
       "      <th>Minnesota Timberwolves</th>\n",
       "      <td>14</td>\n",
       "    </tr>\n",
       "  </tbody>\n",
       "</table>\n",
       "</div>"
      ],
      "text/plain": [
       "                        count\n",
       "Team                         \n",
       "New Orleans Pelicans       19\n",
       "Memphis Grizzlies          18\n",
       "Utah Jazz                  16\n",
       "Milwaukee Bucks            16\n",
       "New York Knicks            16\n",
       "Boston Celtics             15\n",
       "Los Angeles Clippers       15\n",
       "Los Angeles Lakers         15\n",
       "Phoenix Suns               15\n",
       "Sacramento Kings           15\n",
       "Brooklyn Nets              15\n",
       "Philadelphia 76ers         15\n",
       "Toronto Raptors            15\n",
       "Golden State Warriors      15\n",
       "Indiana Pacers             15\n",
       "Detroit Pistons            15\n",
       "Cleveland Cavaliers        15\n",
       "Chicago Bulls              15\n",
       "Houston Rockets            15\n",
       "San Antonio Spurs          15\n",
       "Atlanta Hawks              15\n",
       "Dallas Mavericks           15\n",
       "Charlotte Hornets          15\n",
       "Miami Heat                 15\n",
       "Denver Nuggets             15\n",
       "Washington Wizards         15\n",
       "Portland Trail Blazers     15\n",
       "Oklahoma City Thunder      15\n",
       "Orlando Magic              14\n",
       "Minnesota Timberwolves     14"
      ]
     },
     "execution_count": 37,
     "metadata": {},
     "output_type": "execute_result"
    }
   ],
   "source": [
    "count_Team"
   ]
  },
  {
   "cell_type": "code",
   "execution_count": 42,
   "id": "f2529f5d-a36d-464f-90e9-395cf9d79b85",
   "metadata": {},
   "outputs": [
    {
     "data": {
      "text/plain": [
       "<BarContainer object of 30 artists>"
      ]
     },
     "execution_count": 42,
     "metadata": {},
     "output_type": "execute_result"
    },
    {
     "data": {
      "image/png": "[encoded data removed]",
      "text/plain": [
       "<Figure size 1200x1500 with 1 Axes>"
      ]
     },
     "metadata": {},
     "output_type": "display_data"
    }
   ],
   "source": [
    "plt.figure(figsize=(12,15))\n",
    "plt.bar(count_Team.index,count_Team['count'])"
   ]
  },
  {
   "cell_type": "code",
   "execution_count": 44,
   "id": "e8d63e9f-3a12-4b0f-a7af-46c37419aa02",
   "metadata": {},
   "outputs": [],
   "source": [
    "percent_employee=(count/count.sum())*100"
   ]
  },
  {
   "cell_type": "code",
   "execution_count": 45,
   "id": "34364127-c907-4d30-972f-4befdd678729",
   "metadata": {},
   "outputs": [
    {
     "data": {
      "text/plain": [
       "Team\n",
       "New Orleans Pelicans      4.148472\n",
       "Memphis Grizzlies         3.930131\n",
       "Utah Jazz                 3.493450\n",
       "Milwaukee Bucks           3.493450\n",
       "New York Knicks           3.493450\n",
       "Boston Celtics            3.275109\n",
       "Los Angeles Clippers      3.275109\n",
       "Los Angeles Lakers        3.275109\n",
       "Phoenix Suns              3.275109\n",
       "Sacramento Kings          3.275109\n",
       "Brooklyn Nets             3.275109\n",
       "Philadelphia 76ers        3.275109\n",
       "Toronto Raptors           3.275109\n",
       "Golden State Warriors     3.275109\n",
       "Indiana Pacers            3.275109\n",
       "Detroit Pistons           3.275109\n",
       "Cleveland Cavaliers       3.275109\n",
       "Chicago Bulls             3.275109\n",
       "Houston Rockets           3.275109\n",
       "San Antonio Spurs         3.275109\n",
       "Atlanta Hawks             3.275109\n",
       "Dallas Mavericks          3.275109\n",
       "Charlotte Hornets         3.275109\n",
       "Miami Heat                3.275109\n",
       "Denver Nuggets            3.275109\n",
       "Washington Wizards        3.275109\n",
       "Portland Trail Blazers    3.275109\n",
       "Oklahoma City Thunder     3.275109\n",
       "Orlando Magic             3.056769\n",
       "Minnesota Timberwolves    3.056769\n",
       "Name: count, dtype: float64"
      ]
     },
     "execution_count": 45,
     "metadata": {},
     "output_type": "execute_result"
    }
   ],
   "source": [
    "percent_employee"
   ]
  },
  {
   "cell_type": "markdown",
   "id": "0ecdb5ea-0835-4bdf-9924-ac1d418fd570",
   "metadata": {},
   "source": [
    "2. Segregate employees based on their positions within the company."
   ]
  },
  {
   "cell_type": "code",
   "execution_count": 48,
   "id": "c43a8c78-45a6-4656-8684-28036273c09f",
   "metadata": {},
   "outputs": [],
   "source": [
    "count1=data['Position'].value_counts()"
   ]
  },
  {
   "cell_type": "code",
   "execution_count": 49,
   "id": "129dc678-bb22-44b4-ad97-a4630d0035e8",
   "metadata": {},
   "outputs": [
    {
     "data": {
      "text/plain": [
       "Position\n",
       "SG    102\n",
       "PF    100\n",
       "PG     92\n",
       "SF     85\n",
       "C      79\n",
       "Name: count, dtype: int64"
      ]
     },
     "execution_count": 49,
     "metadata": {},
     "output_type": "execute_result"
    }
   ],
   "source": [
    "count1"
   ]
  },
  {
   "cell_type": "code",
   "execution_count": 50,
   "id": "f8cb0751-7bbf-4e08-a835-13ce72b7f172",
   "metadata": {},
   "outputs": [],
   "source": [
    "dist_position=pd.DataFrame(count1)"
   ]
  },
  {
   "cell_type": "code",
   "execution_count": 51,
   "id": "6d2c1878-8bc1-4a43-b1c9-d0d2104ee585",
   "metadata": {},
   "outputs": [
    {
     "data": {
      "text/html": [
       "<div>\n",
       "<style scoped>\n",
       "    .dataframe tbody tr th:only-of-type {\n",
       "        vertical-align: middle;\n",
       "    }\n",
       "\n",
       "    .dataframe tbody tr th {\n",
       "        vertical-align: top;\n",
       "    }\n",
       "\n",
       "    .dataframe thead th {\n",
       "        text-align: right;\n",
       "    }\n",
       "</style>\n",
       "<table border=\"1\" class=\"dataframe\">\n",
       "  <thead>\n",
       "    <tr style=\"text-align: right;\">\n",
       "      <th></th>\n",
       "      <th>count</th>\n",
       "    </tr>\n",
       "    <tr>\n",
       "      <th>Position</th>\n",
       "      <th></th>\n",
       "    </tr>\n",
       "  </thead>\n",
       "  <tbody>\n",
       "    <tr>\n",
       "      <th>SG</th>\n",
       "      <td>102</td>\n",
       "    </tr>\n",
       "    <tr>\n",
       "      <th>PF</th>\n",
       "      <td>100</td>\n",
       "    </tr>\n",
       "    <tr>\n",
       "      <th>PG</th>\n",
       "      <td>92</td>\n",
       "    </tr>\n",
       "    <tr>\n",
       "      <th>SF</th>\n",
       "      <td>85</td>\n",
       "    </tr>\n",
       "    <tr>\n",
       "      <th>C</th>\n",
       "      <td>79</td>\n",
       "    </tr>\n",
       "  </tbody>\n",
       "</table>\n",
       "</div>"
      ],
      "text/plain": [
       "          count\n",
       "Position       \n",
       "SG          102\n",
       "PF          100\n",
       "PG           92\n",
       "SF           85\n",
       "C            79"
      ]
     },
     "execution_count": 51,
     "metadata": {},
     "output_type": "execute_result"
    }
   ],
   "source": [
    "dist_position"
   ]
  },
  {
   "cell_type": "code",
   "execution_count": 52,
   "id": "d5ec680f-b3e1-43ed-847b-fc51c5bce3ed",
   "metadata": {},
   "outputs": [
    {
     "data": {
      "text/plain": [
       "([<matplotlib.patches.Wedge at 0x1527e621940>,\n",
       "  <matplotlib.patches.Wedge at 0x1527e6c8920>,\n",
       "  <matplotlib.patches.Wedge at 0x1527e782450>,\n",
       "  <matplotlib.patches.Wedge at 0x1527e782a20>,\n",
       "  <matplotlib.patches.Wedge at 0x1527e783020>],\n",
       " [Text(-1.0999987220848393, -0.0016767264895662865, 'SG'),\n",
       "  Text(-0.20091177410650296, -1.081496398063987, 'PF'),\n",
       "  Text(0.9964066887497147, -0.4660190024181733, 'PG'),\n",
       "  Text(0.7846044852966719, 0.7709706879332991, 'SF'),\n",
       "  Text(-0.3572543480665521, 1.040369804823046, 'C')],\n",
       " [Text(-0.5999993029553667, -0.0009145780852179744, '22.3%'),\n",
       "  Text(-0.10958824042172888, -0.58990712621672, '21.8%'),\n",
       "  Text(0.5434945574998443, -0.2541921831371854, '20.1%'),\n",
       "  Text(0.4279660828890937, 0.4205294661454359, '18.6%'),\n",
       "  Text(-0.1948660080363011, 0.5674744389943887, '17.2%')])"
      ]
     },
     "execution_count": 52,
     "metadata": {},
     "output_type": "execute_result"
    },
    {
     "data": {
      "image/png": "[encoded data removed]",
      "text/plain": [
       "<Figure size 640x480 with 1 Axes>"
      ]
     },
     "metadata": {},
     "output_type": "display_data"
    }
   ],
   "source": [
    "plt.pie(dist_position['count'], labels=dist_position.index, autopct='%1.1f%%', startangle=140)"
   ]
  },
  {
   "cell_type": "markdown",
   "id": "197cba15-7f61-4295-b541-4219cdd3a733",
   "metadata": {},
   "source": [
    "3. Identify the predominant age group among employees. "
   ]
  },
  {
   "cell_type": "code",
   "execution_count": 53,
   "id": "3361a7fa-848e-4dd7-b4e6-554453bcc3ff",
   "metadata": {},
   "outputs": [
    {
     "name": "stdout",
     "output_type": "stream",
     "text": [
      "{'18-25': 200, '26-35': 235, '36-45': 23, '46-55': 0, '56 and above': 0}\n"
     ]
    }
   ],
   "source": [
    "ages=data['Age']\n",
    "age_group={'18-25':0,'26-35':0,'36-45':0,'46-55':0,'56 and above':0}\n",
    "for i in ages:\n",
    "    if 18<=i<=25:\n",
    "        age_group['18-25']+=1\n",
    "    elif 26<=i<=35:\n",
    "        age_group['26-35']+=1\n",
    "    elif 36<=i<=45:\n",
    "        age_group['36-45']+=1\n",
    "    elif 26<=i<=55:\n",
    "        age_group['46-55']+=1\n",
    "    elif i>=56:\n",
    "        age_group['56 and above'] +=1\n",
    "print(age_group)\n",
    "        "
   ]
  },
  {
   "cell_type": "markdown",
   "id": "6d763d7b-5fdc-4280-b923-b1de5e229ac5",
   "metadata": {},
   "source": [
    "The predominant age group is '26 - 35'"
   ]
  },
  {
   "cell_type": "code",
   "execution_count": 56,
   "id": "9c3698ee-2ca8-42dd-a534-c24c05f43707",
   "metadata": {},
   "outputs": [],
   "source": [
    "Age_group= ['18-25','26-35','36-45','46-55','56 and above']"
   ]
  },
  {
   "cell_type": "code",
   "execution_count": 60,
   "id": "f2ac0444-aee1-4998-9756-8a0f8ff360ef",
   "metadata": {},
   "outputs": [],
   "source": [
    "count=[200,235,23,0,0]"
   ]
  },
  {
   "cell_type": "code",
   "execution_count": 62,
   "id": "5d0bf257-6227-412e-9a82-04e48794aa4f",
   "metadata": {},
   "outputs": [
    {
     "data": {
      "text/plain": [
       "Text(0.5, 1.0, 'Distribution of employees-Age wise')"
      ]
     },
     "execution_count": 62,
     "metadata": {},
     "output_type": "execute_result"
    },
    {
     "data": {
      "image/png": "[encoded data removed]",
      "text/plain": [
       "<Figure size 640x480 with 1 Axes>"
      ]
     },
     "metadata": {},
     "output_type": "display_data"
    }
   ],
   "source": [
    "plt.bar(Age_group,count,color='blue')\n",
    "plt.xlabel('Age group')\n",
    "plt.ylabel('Number of employees')\n",
    "plt.title('Distribution of employees-Age wise')"
   ]
  },
  {
   "cell_type": "markdown",
   "id": "5ed84fe3-f05f-48a9-83f4-800329247d00",
   "metadata": {},
   "source": [
    "4. Discover which team and position have the highest salary expenditure. \n",
    "\n"
   ]
  },
  {
   "cell_type": "code",
   "execution_count": 68,
   "id": "cbc58085-049f-4aa4-ae5c-c3008005d109",
   "metadata": {},
   "outputs": [],
   "source": [
    "salary_expenditure=data.groupby(['Team','Position'])['Salary'].sum().reset_index()"
   ]
  },
  {
   "cell_type": "code",
   "execution_count": 69,
   "id": "89275e76-5834-49d5-ac31-66e46093c272",
   "metadata": {},
   "outputs": [
    {
     "data": {
      "text/html": [
       "<div>\n",
       "<style scoped>\n",
       "    .dataframe tbody tr th:only-of-type {\n",
       "        vertical-align: middle;\n",
       "    }\n",
       "\n",
       "    .dataframe tbody tr th {\n",
       "        vertical-align: top;\n",
       "    }\n",
       "\n",
       "    .dataframe thead th {\n",
       "        text-align: right;\n",
       "    }\n",
       "</style>\n",
       "<table border=\"1\" class=\"dataframe\">\n",
       "  <thead>\n",
       "    <tr style=\"text-align: right;\">\n",
       "      <th></th>\n",
       "      <th>Team</th>\n",
       "      <th>Position</th>\n",
       "      <th>Salary</th>\n",
       "    </tr>\n",
       "  </thead>\n",
       "  <tbody>\n",
       "    <tr>\n",
       "      <th>0</th>\n",
       "      <td>Atlanta Hawks</td>\n",
       "      <td>C</td>\n",
       "      <td>22756250.0</td>\n",
       "    </tr>\n",
       "    <tr>\n",
       "      <th>1</th>\n",
       "      <td>Atlanta Hawks</td>\n",
       "      <td>PF</td>\n",
       "      <td>23952268.0</td>\n",
       "    </tr>\n",
       "    <tr>\n",
       "      <th>2</th>\n",
       "      <td>Atlanta Hawks</td>\n",
       "      <td>PG</td>\n",
       "      <td>9763400.0</td>\n",
       "    </tr>\n",
       "    <tr>\n",
       "      <th>3</th>\n",
       "      <td>Atlanta Hawks</td>\n",
       "      <td>SF</td>\n",
       "      <td>6000000.0</td>\n",
       "    </tr>\n",
       "    <tr>\n",
       "      <th>4</th>\n",
       "      <td>Atlanta Hawks</td>\n",
       "      <td>SG</td>\n",
       "      <td>10431032.0</td>\n",
       "    </tr>\n",
       "    <tr>\n",
       "      <th>...</th>\n",
       "      <td>...</td>\n",
       "      <td>...</td>\n",
       "      <td>...</td>\n",
       "    </tr>\n",
       "    <tr>\n",
       "      <th>144</th>\n",
       "      <td>Washington Wizards</td>\n",
       "      <td>C</td>\n",
       "      <td>24490429.0</td>\n",
       "    </tr>\n",
       "    <tr>\n",
       "      <th>145</th>\n",
       "      <td>Washington Wizards</td>\n",
       "      <td>PF</td>\n",
       "      <td>11300000.0</td>\n",
       "    </tr>\n",
       "    <tr>\n",
       "      <th>146</th>\n",
       "      <td>Washington Wizards</td>\n",
       "      <td>PG</td>\n",
       "      <td>18022415.0</td>\n",
       "    </tr>\n",
       "    <tr>\n",
       "      <th>147</th>\n",
       "      <td>Washington Wizards</td>\n",
       "      <td>SF</td>\n",
       "      <td>11158800.0</td>\n",
       "    </tr>\n",
       "    <tr>\n",
       "      <th>148</th>\n",
       "      <td>Washington Wizards</td>\n",
       "      <td>SG</td>\n",
       "      <td>11356992.0</td>\n",
       "    </tr>\n",
       "  </tbody>\n",
       "</table>\n",
       "<p>149 rows × 3 columns</p>\n",
       "</div>"
      ],
      "text/plain": [
       "                   Team Position      Salary\n",
       "0         Atlanta Hawks        C  22756250.0\n",
       "1         Atlanta Hawks       PF  23952268.0\n",
       "2         Atlanta Hawks       PG   9763400.0\n",
       "3         Atlanta Hawks       SF   6000000.0\n",
       "4         Atlanta Hawks       SG  10431032.0\n",
       "..                  ...      ...         ...\n",
       "144  Washington Wizards        C  24490429.0\n",
       "145  Washington Wizards       PF  11300000.0\n",
       "146  Washington Wizards       PG  18022415.0\n",
       "147  Washington Wizards       SF  11158800.0\n",
       "148  Washington Wizards       SG  11356992.0\n",
       "\n",
       "[149 rows x 3 columns]"
      ]
     },
     "execution_count": 69,
     "metadata": {},
     "output_type": "execute_result"
    }
   ],
   "source": [
    "salary_expenditure"
   ]
  },
  {
   "cell_type": "code",
   "execution_count": 71,
   "id": "197a3561-9566-4bdc-a94c-ea3ec5154801",
   "metadata": {},
   "outputs": [],
   "source": [
    "highest_expenditure=salary_expenditure.loc[salary_expenditure['Salary'].idxmax()]"
   ]
  },
  {
   "cell_type": "code",
   "execution_count": 72,
   "id": "4edd1717-dcd2-41a0-a09e-5a2a13b86fca",
   "metadata": {},
   "outputs": [
    {
     "name": "stdout",
     "output_type": "stream",
     "text": [
      "Team        Los Angeles Lakers\n",
      "Position                    SF\n",
      "Salary              31866445.0\n",
      "Name: 67, dtype: object\n"
     ]
    }
   ],
   "source": [
    "print(highest_expenditure)"
   ]
  },
  {
   "cell_type": "markdown",
   "id": "9e829d9c-f12d-4e22-9c66-e7d5858d663a",
   "metadata": {},
   "source": [
    "The team 'Los Angeles Lakers' having position SF has highest salary expenditure"
   ]
  },
  {
   "cell_type": "code",
   "execution_count": 81,
   "id": "b91590db-4223-4f50-8994-b707e43866a2",
   "metadata": {},
   "outputs": [
    {
     "data": {
      "image/png": "[encoded data removed]",
      "text/plain": [
       "<Figure size 640x480 with 1 Axes>"
      ]
     },
     "metadata": {},
     "output_type": "display_data"
    }
   ],
   "source": [
    "salary_expenditure=data.groupby(['Position'])['Salary'].sum().reset_index()\n",
    "expenditure = salary_expenditure.sort_values(by='Salary', ascending=False).reset_index(drop=True)\n",
    "sns.barplot(data=expenditure, x='Salary', y='Position', dodge=True,color='red')\n",
    "# Set titles and labels\n",
    "plt.title('Total Salary Expenditure by Position')\n",
    "plt.xlabel('Total Salary Expenditure')\n",
    "plt.ylabel('Position')\n",
    "plt.show()"
   ]
  },
  {
   "cell_type": "markdown",
   "id": "3c530364-f4ec-4d30-af12-274b67e9b1e8",
   "metadata": {},
   "source": [
    "5. Investigate if there's any correlation between age and salary, and represent it visually."
   ]
  },
  {
   "cell_type": "code",
   "execution_count": 82,
   "id": "22f36d01-4d59-481a-b672-a96e79517aff",
   "metadata": {},
   "outputs": [],
   "source": [
    "df_corr=data[['Age','Salary']]\n",
    "correlation_matrix=df_corr.corr()"
   ]
  },
  {
   "cell_type": "code",
   "execution_count": 83,
   "id": "07db6fd4-2197-4728-a8c6-09bba5cd7271",
   "metadata": {},
   "outputs": [
    {
     "data": {
      "text/plain": [
       "<Axes: >"
      ]
     },
     "execution_count": 83,
     "metadata": {},
     "output_type": "execute_result"
    },
    {
     "data": {
      "image/png": "[encoded data removed]",
      "text/plain": [
       "<Figure size 640x480 with 2 Axes>"
      ]
     },
     "metadata": {},
     "output_type": "display_data"
    }
   ],
   "source": [
    "sns.heatmap(correlation_matrix, annot=True, cmap='coolwarm', fmt='.2f', square=True)"
   ]
  },
  {
   "cell_type": "markdown",
   "id": "3942ecb0-c45d-4d45-be1c-b6021237297e",
   "metadata": {},
   "source": [
    "The correlation of 0.21 for age and salary suggest that there is a weak positive correlation between the two variables."
   ]
  },
  {
   "cell_type": "code",
   "execution_count": null,
   "id": "e21dbffc-3fc3-4470-8d24-d62ba31faf29",
   "metadata": {},
   "outputs": [],
   "source": []
  }
 ],
 "metadata": {
  "kernelspec": {
   "display_name": "Python 3 (ipykernel)",
   "language": "python",
   "name": "python3"
  },
  "language_info": {
   "codemirror_mode": {
    "name": "ipython",
    "version": 3
   },
   "file_extension": ".py",
   "mimetype": "text/x-python",
   "name": "python",
   "nbconvert_exporter": "python",
   "pygments_lexer": "ipython3",
   "version": "3.12.1"
  }
 },
 "nbformat": 4,
 "nbformat_minor": 5
}
